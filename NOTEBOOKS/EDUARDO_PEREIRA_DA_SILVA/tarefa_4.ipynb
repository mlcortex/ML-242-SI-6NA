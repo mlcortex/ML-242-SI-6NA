{
  "nbformat": 4,
  "nbformat_minor": 0,
  "metadata": {
    "colab": {
      "provenance": []
    },
    "kernelspec": {
      "name": "python3",
      "display_name": "Python 3"
    },
    "language_info": {
      "name": "python"
    }
  },
  "cells": [
    {
      "cell_type": "code",
      "execution_count": null,
      "metadata": {
        "id": "jYPbceUXGm0L"
      },
      "outputs": [],
      "source": [
        "import pandas as pd\n",
        "\n",
        "# URL do dataset Wine\n",
        "url = 'https://archive.ics.uci.edu/ml/machine-learning-databases/wine/wine.data'\n",
        "\n",
        "# Nome das colunas em português BR\n",
        "column_names_pt_br = [\n",
        "    'classe',\n",
        "    'alcool',\n",
        "    'acido_malico',\n",
        "    'cinzas',\n",
        "    'alcalinidade_de_cinzas',\n",
        "    'magnesio',\n",
        "    'fenois_totais',\n",
        "    'flavanoides',\n",
        "    'fenois_nao_flavanoides',\n",
        "    'proantocianinas',\n",
        "    'intensidade_de_cor',\n",
        "    'matiz',\n",
        "    'od280_od315_de_vinhos_diluidos',\n",
        "    'prolina'\n",
        "]\n",
        "\n",
        "# Ler o arquivo CSV com as colunas especificadas, definindo a coluna 'classe' como object\n",
        "vinhos = pd.read_csv(url, names=column_names_pt_br, dtype={'classe': object})"
      ]
    },
    {
      "cell_type": "code",
      "source": [
        "# Pré-processamento dos Dados\n",
        "# Separe as variáveis da seguinte forma:\n",
        "# X: Todas as colunas, exceto classe.\n",
        "# y: Coluna classe, que será a variável-alvo para a classificação.\n",
        "\n",
        "# Separando as variáveis\n",
        "X = vinhos.drop('classe', axis=1)\n",
        "y = vinhos['classe']"
      ],
      "metadata": {
        "id": "-c1syzXOII1V"
      },
      "execution_count": null,
      "outputs": []
    },
    {
      "cell_type": "code",
      "source": [
        "# Configuração do Experimento\n",
        "# Realize três experimentos, alterando o random_state para os valores 42, 17 e 24. Para cada experimento, aplique o KNN com k=3 e k=5.\n",
        "\n",
        "from sklearn.model_selection import train_test_split\n",
        "from sklearn.neighbors import KNeighborsClassifier\n",
        "from sklearn.metrics import accuracy_score\n",
        "\n",
        "random_states = [42, 17, 24]\n",
        "k_values = [3, 5]\n",
        "\n",
        "for random_state in random_states:\n",
        "  X_train, X_test, y_train, y_test = train_test_split(X, y, test_size=0.3, random_state=random_state)\n",
        "  for k in k_values:\n",
        "    knn = KNeighborsClassifier(n_neighbors=k)\n",
        "    knn.fit(X_train, y_train)\n",
        "    y_pred = knn.predict(X_test)\n",
        "    accuracy = accuracy_score(y_test, y_pred)\n",
        "    print(f\"Random State: {random_state}, k: {k}, Acurácia: {accuracy}\")"
      ],
      "metadata": {
        "colab": {
          "base_uri": "https://localhost:8080/"
        },
        "id": "hc7DLnLpIQ-9",
        "outputId": "68063621-ae4b-42e7-ce3e-afeacf0a5749"
      },
      "execution_count": null,
      "outputs": [
        {
          "output_type": "stream",
          "name": "stdout",
          "text": [
            "Random State: 42, k: 3, Acurácia: 0.7407407407407407\n",
            "Random State: 42, k: 5, Acurácia: 0.7407407407407407\n",
            "Random State: 17, k: 3, Acurácia: 0.6481481481481481\n",
            "Random State: 17, k: 5, Acurácia: 0.6666666666666666\n",
            "Random State: 24, k: 3, Acurácia: 0.7407407407407407\n",
            "Random State: 24, k: 5, Acurácia: 0.6666666666666666\n"
          ]
        }
      ]
    },
    {
      "cell_type": "code",
      "source": [
        "# Estrutura de Cross-Validation com KFold\n",
        "from sklearn.model_selection import KFold\n",
        "import numpy as np\n",
        "\n",
        "for random_state in random_states:\n",
        "    kf = KFold(n_splits=10, shuffle=True, random_state=random_state)\n",
        "    for k in k_values:\n",
        "        accuracies = []\n",
        "        for train_index, test_index in kf.split(X):\n",
        "            X_train, X_test = X.iloc[train_index], X.iloc[test_index]\n",
        "            y_train, y_test = y.iloc[train_index], y.iloc[test_index]\n",
        "\n",
        "            knn = KNeighborsClassifier(n_neighbors=k)\n",
        "            knn.fit(X_train, y_train)\n",
        "            y_pred = knn.predict(X_test)\n",
        "            accuracy = accuracy_score(y_test, y_pred)\n",
        "            accuracies.append(accuracy)\n",
        "\n",
        "        mean_accuracy = np.mean(accuracies)\n",
        "        std_accuracy = np.std(accuracies)\n",
        "        print(f\"Random State: {random_state}, k: {k}, Acurácia Média: {mean_accuracy:.4f}, Desvio Padrão: {std_accuracy:.4f}\")"
      ],
      "metadata": {
        "colab": {
          "base_uri": "https://localhost:8080/"
        },
        "id": "BA_iNFL4IkTP",
        "outputId": "a399f226-22c5-423a-f48b-deb502a243bc"
      },
      "execution_count": null,
      "outputs": [
        {
          "output_type": "stream",
          "name": "stdout",
          "text": [
            "Random State: 42, k: 3, Acurácia Média: 0.7036, Desvio Padrão: 0.1392\n",
            "Random State: 42, k: 5, Acurácia Média: 0.6641, Desvio Padrão: 0.1001\n",
            "Random State: 17, k: 3, Acurácia Média: 0.6987, Desvio Padrão: 0.1040\n",
            "Random State: 17, k: 5, Acurácia Média: 0.6876, Desvio Padrão: 0.1121\n",
            "Random State: 24, k: 3, Acurácia Média: 0.7127, Desvio Padrão: 0.0968\n",
            "Random State: 24, k: 5, Acurácia Média: 0.7127, Desvio Padrão: 0.0940\n"
          ]
        }
      ]
    },
    {
      "cell_type": "code",
      "source": [
        "# Análise dos Resultados\n",
        "# Calculando a média e o desvio padrão da acurácia para cada valor de k em cada experimento.\n",
        "# Identificando o melhor valor de k para cada random_state.\n",
        "# Caso haja empate nas acurácias médias para k=3 e k=5, registrando o empate nos resultados.\n",
        "\n",
        "results = {}\n",
        "\n",
        "for random_state in random_states:\n",
        "    results[random_state] = {}\n",
        "    kf = KFold(n_splits=10, shuffle=True, random_state=random_state)\n",
        "    for k in k_values:\n",
        "        accuracies = []\n",
        "        for train_index, test_index in kf.split(X):\n",
        "            X_train, X_test = X.iloc[train_index], X.iloc[test_index]\n",
        "            y_train, y_test = y.iloc[train_index], y.iloc[test_index]\n",
        "\n",
        "            knn = KNeighborsClassifier(n_neighbors=k)\n",
        "            knn.fit(X_train, y_train)\n",
        "            y_pred = knn.predict(X_test)\n",
        "            accuracy = accuracy_score(y_test, y_pred)\n",
        "            accuracies.append(accuracy)\n",
        "\n",
        "        mean_accuracy = np.mean(accuracies)\n",
        "        std_accuracy = np.std(accuracies)\n",
        "        results[random_state][k] = (mean_accuracy, std_accuracy)\n",
        "        print(f\"Random State: {random_state}, k: {k}, Acurácia Média: {mean_accuracy:.4f}, Desvio Padrão: {std_accuracy:.4f}\")\n",
        "\n",
        "for random_state, k_results in results.items():\n",
        "    best_k = None\n",
        "    best_accuracy = -1\n",
        "    for k, (mean_accuracy, _) in k_results.items():\n",
        "        if mean_accuracy > best_accuracy:\n",
        "            best_accuracy = mean_accuracy\n",
        "            best_k = k\n",
        "        elif mean_accuracy == best_accuracy:\n",
        "            best_k = \"Empate entre k=3 e k=5\"\n",
        "    print(f\"Melhor k para Random State {random_state}: {best_k} com acurácia {best_accuracy:.4f}\")"
      ],
      "metadata": {
        "colab": {
          "base_uri": "https://localhost:8080/"
        },
        "id": "SCe3pDblJR1D",
        "outputId": "da449eba-0aaf-4ab0-a88f-cd035a661b01"
      },
      "execution_count": null,
      "outputs": [
        {
          "output_type": "stream",
          "name": "stdout",
          "text": [
            "Random State: 42, k: 3, Acurácia Média: 0.7036, Desvio Padrão: 0.1392\n",
            "Random State: 42, k: 5, Acurácia Média: 0.6641, Desvio Padrão: 0.1001\n",
            "Random State: 17, k: 3, Acurácia Média: 0.6987, Desvio Padrão: 0.1040\n",
            "Random State: 17, k: 5, Acurácia Média: 0.6876, Desvio Padrão: 0.1121\n",
            "Random State: 24, k: 3, Acurácia Média: 0.7127, Desvio Padrão: 0.0968\n",
            "Random State: 24, k: 5, Acurácia Média: 0.7127, Desvio Padrão: 0.0940\n",
            "Melhor k para Random State 42: 3 com acurácia 0.7036\n",
            "Melhor k para Random State 17: 3 com acurácia 0.6987\n",
            "Melhor k para Random State 24: Empate entre k=3 e k=5 com acurácia 0.7127\n"
          ]
        }
      ]
    }
  ]
}